{
  "nbformat": 4,
  "nbformat_minor": 0,
  "metadata": {
    "colab": {
      "provenance": []
    },
    "kernelspec": {
      "name": "python3",
      "display_name": "Python 3"
    },
    "language_info": {
      "name": "python"
    }
  },
  "cells": [
    {
      "cell_type": "code",
      "source": [
        "number = int(input(\"輸入範圍\"))\n",
        "for i in range(1, number + 1):\n",
        "  for j in range(1,number + 1):\n",
        "    print(f\"{i} x {j} = {i * j}\")"
      ],
      "metadata": {
        "id": "CZUtElZwCAEi"
      },
      "execution_count": null,
      "outputs": []
    },
    {
      "cell_type": "code",
      "source": [
        "import random\n",
        "target_number = random.randint(1,100)\n",
        "\n",
        "print(\"歡迎參加猜數字遊戲\")\n",
        "\n",
        "while True:\n",
        "  guess = input(\"請猜數字: \")\n",
        "  n = int(guess)\n",
        "  if n > target_number:\n",
        "    print(\"數字太大了\")\n",
        "  elif n < target_number:\n",
        "    print(\"數字太小了\")\n",
        "  elif n == target_number:\n",
        "    print(\"猜中了\")\n",
        "    break\n",
        "\n",
        "print(\"遊戲結束\")"
      ],
      "metadata": {
        "id": "GE7hZ3jSCZjy"
      },
      "execution_count": null,
      "outputs": []
    }
  ]
}